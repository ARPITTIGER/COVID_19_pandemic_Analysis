{
 "cells": [
  {
   "cell_type": "code",
   "execution_count": 48,
   "metadata": {},
   "outputs": [],
   "source": [
    "import pandas as pd \n",
    "import itertools\n",
    "import numpy as np\n",
    "import matplotlib.pyplot as plt\n",
    "from sklearn.preprocessing import LabelEncoder\n",
    "import matplotlib.ticker as ticker\n",
    "from sklearn import preprocessing\n",
    "%matplotlib inline"
   ]
  },
  {
   "cell_type": "code",
   "execution_count": 49,
   "metadata": {},
   "outputs": [],
   "source": [
    "data=pd.read_csv(\"PAML_COVID_Data.csv\")"
   ]
  },
  {
   "cell_type": "code",
   "execution_count": 50,
   "metadata": {},
   "outputs": [
    {
     "data": {
      "text/html": [
       "<div>\n",
       "<style scoped>\n",
       "    .dataframe tbody tr th:only-of-type {\n",
       "        vertical-align: middle;\n",
       "    }\n",
       "\n",
       "    .dataframe tbody tr th {\n",
       "        vertical-align: top;\n",
       "    }\n",
       "\n",
       "    .dataframe thead th {\n",
       "        text-align: right;\n",
       "    }\n",
       "</style>\n",
       "<table border=\"1\" class=\"dataframe\">\n",
       "  <thead>\n",
       "    <tr style=\"text-align: right;\">\n",
       "      <th></th>\n",
       "      <th>Date</th>\n",
       "      <th>Time</th>\n",
       "      <th>State/UnionTerritory</th>\n",
       "      <th>ConfirmedIndianNational</th>\n",
       "      <th>Gender</th>\n",
       "      <th>ConfirmedForeignNational</th>\n",
       "      <th>Age</th>\n",
       "      <th>Serious symptoms</th>\n",
       "      <th>Less common symptoms</th>\n",
       "      <th>Most common symptoms</th>\n",
       "      <th>Severity</th>\n",
       "      <th>Patient_Status</th>\n",
       "    </tr>\n",
       "  </thead>\n",
       "  <tbody>\n",
       "    <tr>\n",
       "      <th>0</th>\n",
       "      <td>30/01/20</td>\n",
       "      <td>6:00 PM</td>\n",
       "      <td>Kerala</td>\n",
       "      <td>1</td>\n",
       "      <td>Male</td>\n",
       "      <td>0</td>\n",
       "      <td>86</td>\n",
       "      <td>chest pain or pressure</td>\n",
       "      <td>loss of taste or smell</td>\n",
       "      <td>fever</td>\n",
       "      <td>Mild</td>\n",
       "      <td>flu</td>\n",
       "    </tr>\n",
       "    <tr>\n",
       "      <th>1</th>\n",
       "      <td>31/01/20</td>\n",
       "      <td>6:00 PM</td>\n",
       "      <td>Kerala</td>\n",
       "      <td>1</td>\n",
       "      <td>Female</td>\n",
       "      <td>0</td>\n",
       "      <td>52</td>\n",
       "      <td>loss of speech or movement</td>\n",
       "      <td>loss of taste or smell</td>\n",
       "      <td>tiredness</td>\n",
       "      <td>Mild</td>\n",
       "      <td>flu</td>\n",
       "    </tr>\n",
       "    <tr>\n",
       "      <th>2</th>\n",
       "      <td>1/2/2020</td>\n",
       "      <td>6:00 PM</td>\n",
       "      <td>Kerala</td>\n",
       "      <td>2</td>\n",
       "      <td>Female</td>\n",
       "      <td>0</td>\n",
       "      <td>98</td>\n",
       "      <td>loss of speech or movement</td>\n",
       "      <td>diarrhoea</td>\n",
       "      <td>tiredness</td>\n",
       "      <td>Moderate</td>\n",
       "      <td>flu</td>\n",
       "    </tr>\n",
       "    <tr>\n",
       "      <th>3</th>\n",
       "      <td>2/2/2020</td>\n",
       "      <td>6:00 PM</td>\n",
       "      <td>Kerala</td>\n",
       "      <td>3</td>\n",
       "      <td>Male</td>\n",
       "      <td>0</td>\n",
       "      <td>74</td>\n",
       "      <td>difficulty breathing or shortness of breath</td>\n",
       "      <td>headache</td>\n",
       "      <td>fever</td>\n",
       "      <td>Mild</td>\n",
       "      <td>flu</td>\n",
       "    </tr>\n",
       "    <tr>\n",
       "      <th>4</th>\n",
       "      <td>3/2/2020</td>\n",
       "      <td>6:00 PM</td>\n",
       "      <td>Kerala</td>\n",
       "      <td>3</td>\n",
       "      <td>Male</td>\n",
       "      <td>0</td>\n",
       "      <td>39</td>\n",
       "      <td>chest pain or pressure</td>\n",
       "      <td>loss of taste or smell</td>\n",
       "      <td>fever</td>\n",
       "      <td>Seviour</td>\n",
       "      <td>Covid</td>\n",
       "    </tr>\n",
       "  </tbody>\n",
       "</table>\n",
       "</div>"
      ],
      "text/plain": [
       "       Date     Time State/UnionTerritory ConfirmedIndianNational Gender   \\\n",
       "0  30/01/20  6:00 PM               Kerala                       1   Male    \n",
       "1  31/01/20  6:00 PM               Kerala                       1  Female   \n",
       "2  1/2/2020  6:00 PM               Kerala                       2  Female   \n",
       "3  2/2/2020  6:00 PM               Kerala                       3   Male    \n",
       "4  3/2/2020  6:00 PM               Kerala                       3   Male    \n",
       "\n",
       "  ConfirmedForeignNational  Age                              Serious symptoms  \\\n",
       "0                        0    86                       chest pain or pressure   \n",
       "1                        0    52                   loss of speech or movement   \n",
       "2                        0    98                   loss of speech or movement   \n",
       "3                        0    74  difficulty breathing or shortness of breath   \n",
       "4                        0    39                       chest pain or pressure   \n",
       "\n",
       "     Less common symptoms Most common symptoms  Severity Patient_Status   \n",
       "0  loss of taste or smell                fever      Mild             flu  \n",
       "1  loss of taste or smell            tiredness      Mild             flu  \n",
       "2               diarrhoea            tiredness  Moderate             flu  \n",
       "3                headache                fever      Mild             flu  \n",
       "4  loss of taste or smell                fever   Seviour           Covid  "
      ]
     },
     "execution_count": 50,
     "metadata": {},
     "output_type": "execute_result"
    }
   ],
   "source": [
    "data.head()"
   ]
  },
  {
   "cell_type": "code",
   "execution_count": 51,
   "metadata": {},
   "outputs": [
    {
     "data": {
      "text/plain": [
       "fever        1057\n",
       "dry cough    1057\n",
       "tiredness    1021\n",
       "Name: Most common symptoms, dtype: int64"
      ]
     },
     "execution_count": 51,
     "metadata": {},
     "output_type": "execute_result"
    }
   ],
   "source": [
    "data['Severity'].value_counts()\n",
    "data['Less common symptoms'].value_counts()\n",
    "data['Serious symptoms'].value_counts()\n",
    "data['Most common symptoms'].value_counts()"
   ]
  },
  {
   "cell_type": "code",
   "execution_count": 52,
   "metadata": {},
   "outputs": [],
   "source": [
    "proto = data.copy()"
   ]
  },
  {
   "cell_type": "code",
   "execution_count": 53,
   "metadata": {},
   "outputs": [],
   "source": [
    "Enc=LabelEncoder()  #Coverting aplhabetic to numeric\n",
    "proto['Less common symptoms']=Enc.fit_transform(dcopy['Less common symptoms'].astype('str')) "
   ]
  },
  {
   "cell_type": "code",
   "execution_count": 54,
   "metadata": {},
   "outputs": [
    {
     "data": {
      "text/html": [
       "<div>\n",
       "<style scoped>\n",
       "    .dataframe tbody tr th:only-of-type {\n",
       "        vertical-align: middle;\n",
       "    }\n",
       "\n",
       "    .dataframe tbody tr th {\n",
       "        vertical-align: top;\n",
       "    }\n",
       "\n",
       "    .dataframe thead th {\n",
       "        text-align: right;\n",
       "    }\n",
       "</style>\n",
       "<table border=\"1\" class=\"dataframe\">\n",
       "  <thead>\n",
       "    <tr style=\"text-align: right;\">\n",
       "      <th></th>\n",
       "      <th>Date</th>\n",
       "      <th>Time</th>\n",
       "      <th>State/UnionTerritory</th>\n",
       "      <th>ConfirmedIndianNational</th>\n",
       "      <th>Gender</th>\n",
       "      <th>ConfirmedForeignNational</th>\n",
       "      <th>Age</th>\n",
       "      <th>Serious symptoms</th>\n",
       "      <th>Less common symptoms</th>\n",
       "      <th>Most common symptoms</th>\n",
       "      <th>Severity</th>\n",
       "      <th>Patient_Status</th>\n",
       "    </tr>\n",
       "  </thead>\n",
       "  <tbody>\n",
       "    <tr>\n",
       "      <th>0</th>\n",
       "      <td>30/01/20</td>\n",
       "      <td>6:00 PM</td>\n",
       "      <td>Kerala</td>\n",
       "      <td>1</td>\n",
       "      <td>Male</td>\n",
       "      <td>0</td>\n",
       "      <td>86</td>\n",
       "      <td>0</td>\n",
       "      <td>5</td>\n",
       "      <td>fever</td>\n",
       "      <td>Mild</td>\n",
       "      <td>flu</td>\n",
       "    </tr>\n",
       "    <tr>\n",
       "      <th>1</th>\n",
       "      <td>31/01/20</td>\n",
       "      <td>6:00 PM</td>\n",
       "      <td>Kerala</td>\n",
       "      <td>1</td>\n",
       "      <td>Female</td>\n",
       "      <td>0</td>\n",
       "      <td>52</td>\n",
       "      <td>2</td>\n",
       "      <td>5</td>\n",
       "      <td>tiredness</td>\n",
       "      <td>Mild</td>\n",
       "      <td>flu</td>\n",
       "    </tr>\n",
       "    <tr>\n",
       "      <th>2</th>\n",
       "      <td>1/2/2020</td>\n",
       "      <td>6:00 PM</td>\n",
       "      <td>Kerala</td>\n",
       "      <td>2</td>\n",
       "      <td>Female</td>\n",
       "      <td>0</td>\n",
       "      <td>98</td>\n",
       "      <td>2</td>\n",
       "      <td>3</td>\n",
       "      <td>tiredness</td>\n",
       "      <td>Moderate</td>\n",
       "      <td>flu</td>\n",
       "    </tr>\n",
       "    <tr>\n",
       "      <th>3</th>\n",
       "      <td>2/2/2020</td>\n",
       "      <td>6:00 PM</td>\n",
       "      <td>Kerala</td>\n",
       "      <td>3</td>\n",
       "      <td>Male</td>\n",
       "      <td>0</td>\n",
       "      <td>74</td>\n",
       "      <td>1</td>\n",
       "      <td>4</td>\n",
       "      <td>fever</td>\n",
       "      <td>Mild</td>\n",
       "      <td>flu</td>\n",
       "    </tr>\n",
       "    <tr>\n",
       "      <th>4</th>\n",
       "      <td>3/2/2020</td>\n",
       "      <td>6:00 PM</td>\n",
       "      <td>Kerala</td>\n",
       "      <td>3</td>\n",
       "      <td>Male</td>\n",
       "      <td>0</td>\n",
       "      <td>39</td>\n",
       "      <td>0</td>\n",
       "      <td>5</td>\n",
       "      <td>fever</td>\n",
       "      <td>Seviour</td>\n",
       "      <td>Covid</td>\n",
       "    </tr>\n",
       "  </tbody>\n",
       "</table>\n",
       "</div>"
      ],
      "text/plain": [
       "       Date     Time State/UnionTerritory ConfirmedIndianNational Gender   \\\n",
       "0  30/01/20  6:00 PM               Kerala                       1   Male    \n",
       "1  31/01/20  6:00 PM               Kerala                       1  Female   \n",
       "2  1/2/2020  6:00 PM               Kerala                       2  Female   \n",
       "3  2/2/2020  6:00 PM               Kerala                       3   Male    \n",
       "4  3/2/2020  6:00 PM               Kerala                       3   Male    \n",
       "\n",
       "  ConfirmedForeignNational  Age   Serious symptoms  Less common symptoms  \\\n",
       "0                        0    86                 0                     5   \n",
       "1                        0    52                 2                     5   \n",
       "2                        0    98                 2                     3   \n",
       "3                        0    74                 1                     4   \n",
       "4                        0    39                 0                     5   \n",
       "\n",
       "  Most common symptoms  Severity Patient_Status   \n",
       "0                fever      Mild             flu  \n",
       "1            tiredness      Mild             flu  \n",
       "2            tiredness  Moderate             flu  \n",
       "3                fever      Mild             flu  \n",
       "4                fever   Seviour           Covid  "
      ]
     },
     "execution_count": 54,
     "metadata": {},
     "output_type": "execute_result"
    }
   ],
   "source": [
    "proto['Serious symptoms']=Enc.fit_transform(dcopy['Serious symptoms'].astype('str'))\n",
    "proto.head()"
   ]
  },
  {
   "cell_type": "code",
   "execution_count": 55,
   "metadata": {},
   "outputs": [],
   "source": [
    "proto['Most common symptoms']=Enc.fit_transform(dcopy['Most common symptoms'].astype('str'))\n",
    "proto['Severity']=Enc.fit_transform(dcopy['Severity'].astype('str')) \n",
    "proto['State/UnionTerritory'] = Enc.fit_transform(dcopy['State/UnionTerritory'].astype('str'))"
   ]
  },
  {
   "cell_type": "code",
   "execution_count": 56,
   "metadata": {},
   "outputs": [
    {
     "data": {
      "text/html": [
       "<div>\n",
       "<style scoped>\n",
       "    .dataframe tbody tr th:only-of-type {\n",
       "        vertical-align: middle;\n",
       "    }\n",
       "\n",
       "    .dataframe tbody tr th {\n",
       "        vertical-align: top;\n",
       "    }\n",
       "\n",
       "    .dataframe thead th {\n",
       "        text-align: right;\n",
       "    }\n",
       "</style>\n",
       "<table border=\"1\" class=\"dataframe\">\n",
       "  <thead>\n",
       "    <tr style=\"text-align: right;\">\n",
       "      <th></th>\n",
       "      <th>Date</th>\n",
       "      <th>Time</th>\n",
       "      <th>State/UnionTerritory</th>\n",
       "      <th>ConfirmedIndianNational</th>\n",
       "      <th>Gender</th>\n",
       "      <th>ConfirmedForeignNational</th>\n",
       "      <th>Age</th>\n",
       "      <th>Serious symptoms</th>\n",
       "      <th>Less common symptoms</th>\n",
       "      <th>Most common symptoms</th>\n",
       "      <th>Severity</th>\n",
       "      <th>Patient_Status</th>\n",
       "    </tr>\n",
       "  </thead>\n",
       "  <tbody>\n",
       "    <tr>\n",
       "      <th>0</th>\n",
       "      <td>30/01/20</td>\n",
       "      <td>6:00 PM</td>\n",
       "      <td>11</td>\n",
       "      <td>1</td>\n",
       "      <td>Male</td>\n",
       "      <td>0</td>\n",
       "      <td>86</td>\n",
       "      <td>0</td>\n",
       "      <td>5</td>\n",
       "      <td>1</td>\n",
       "      <td>0</td>\n",
       "      <td>flu</td>\n",
       "    </tr>\n",
       "    <tr>\n",
       "      <th>1</th>\n",
       "      <td>31/01/20</td>\n",
       "      <td>6:00 PM</td>\n",
       "      <td>11</td>\n",
       "      <td>1</td>\n",
       "      <td>Female</td>\n",
       "      <td>0</td>\n",
       "      <td>52</td>\n",
       "      <td>2</td>\n",
       "      <td>5</td>\n",
       "      <td>2</td>\n",
       "      <td>0</td>\n",
       "      <td>flu</td>\n",
       "    </tr>\n",
       "    <tr>\n",
       "      <th>2</th>\n",
       "      <td>1/2/2020</td>\n",
       "      <td>6:00 PM</td>\n",
       "      <td>11</td>\n",
       "      <td>2</td>\n",
       "      <td>Female</td>\n",
       "      <td>0</td>\n",
       "      <td>98</td>\n",
       "      <td>2</td>\n",
       "      <td>3</td>\n",
       "      <td>2</td>\n",
       "      <td>1</td>\n",
       "      <td>flu</td>\n",
       "    </tr>\n",
       "    <tr>\n",
       "      <th>3</th>\n",
       "      <td>2/2/2020</td>\n",
       "      <td>6:00 PM</td>\n",
       "      <td>11</td>\n",
       "      <td>3</td>\n",
       "      <td>Male</td>\n",
       "      <td>0</td>\n",
       "      <td>74</td>\n",
       "      <td>1</td>\n",
       "      <td>4</td>\n",
       "      <td>1</td>\n",
       "      <td>0</td>\n",
       "      <td>flu</td>\n",
       "    </tr>\n",
       "    <tr>\n",
       "      <th>4</th>\n",
       "      <td>3/2/2020</td>\n",
       "      <td>6:00 PM</td>\n",
       "      <td>11</td>\n",
       "      <td>3</td>\n",
       "      <td>Male</td>\n",
       "      <td>0</td>\n",
       "      <td>39</td>\n",
       "      <td>0</td>\n",
       "      <td>5</td>\n",
       "      <td>1</td>\n",
       "      <td>2</td>\n",
       "      <td>Covid</td>\n",
       "    </tr>\n",
       "  </tbody>\n",
       "</table>\n",
       "</div>"
      ],
      "text/plain": [
       "       Date     Time  State/UnionTerritory ConfirmedIndianNational Gender   \\\n",
       "0  30/01/20  6:00 PM                    11                       1   Male    \n",
       "1  31/01/20  6:00 PM                    11                       1  Female   \n",
       "2  1/2/2020  6:00 PM                    11                       2  Female   \n",
       "3  2/2/2020  6:00 PM                    11                       3   Male    \n",
       "4  3/2/2020  6:00 PM                    11                       3   Male    \n",
       "\n",
       "  ConfirmedForeignNational  Age   Serious symptoms  Less common symptoms  \\\n",
       "0                        0    86                 0                     5   \n",
       "1                        0    52                 2                     5   \n",
       "2                        0    98                 2                     3   \n",
       "3                        0    74                 1                     4   \n",
       "4                        0    39                 0                     5   \n",
       "\n",
       "   Most common symptoms  Severity Patient_Status   \n",
       "0                     1         0             flu  \n",
       "1                     2         0             flu  \n",
       "2                     2         1             flu  \n",
       "3                     1         0             flu  \n",
       "4                     1         2           Covid  "
      ]
     },
     "execution_count": 56,
     "metadata": {},
     "output_type": "execute_result"
    }
   ],
   "source": [
    "proto.head()"
   ]
  },
  {
   "cell_type": "code",
   "execution_count": 57,
   "metadata": {},
   "outputs": [],
   "source": [
    "proto.update(dcopy['Gender '].replace(to_replace =[\"Male \"], value =\"0\")) \n",
    "proto.update(dcopy['Gender '].replace(to_replace =[\"Female\"], value =\"1\")) \n",
    "proto.update(dcopy['Patient_Status '].replace(to_replace =[\"Covid\"], value =\"0\")) \n",
    "proto.update(dcopy['Patient_Status '].replace(to_replace =[\"flu\"], value =\"1\"))"
   ]
  },
  {
   "cell_type": "code",
   "execution_count": 58,
   "metadata": {},
   "outputs": [
    {
     "data": {
      "text/plain": [
       "array([[-9.61505878e-01,  1.18382407e+00, -1.21466554e+00,\n",
       "         1.01866914e+00,  1.41060091e-02, -1.24410484e+00],\n",
       "       [ 1.04003524e+00, -2.85491777e-02,  1.23971826e+00,\n",
       "         1.01866914e+00,  1.24250430e+00, -1.24410484e+00],\n",
       "       [ 1.04003524e+00,  1.61172051e+00,  1.23971826e+00,\n",
       "         6.49454343e-04,  1.24250430e+00, -1.33479219e-02],\n",
       "       [-9.61505878e-01,  7.55927628e-01,  1.25263607e-02,\n",
       "         5.09659295e-01,  1.41060091e-02, -1.24410484e+00],\n",
       "       [-9.61505878e-01, -4.92103654e-01, -1.21466554e+00,\n",
       "         1.01866914e+00,  1.41060091e-02,  1.21740899e+00]])"
      ]
     },
     "execution_count": 58,
     "metadata": {},
     "output_type": "execute_result"
    }
   ],
   "source": [
    "X = proto[['Gender ','Age ','Serious symptoms','Less common symptoms','Most common symptoms', 'Severity']]\n",
    "y = proto['Patient_Status ']\n",
    "X = preprocessing.StandardScaler().fit(X).transform(X.astype(float))\n",
    "\n",
    "X[0:5]"
   ]
  },
  {
   "cell_type": "code",
   "execution_count": 59,
   "metadata": {},
   "outputs": [
    {
     "name": "stdout",
     "output_type": "stream",
     "text": [
      "Train set: (2194, 6) (2194,)\n",
      "Test set: (941, 6) (941,)\n"
     ]
    }
   ],
   "source": [
    "from sklearn.model_selection import train_test_split\n",
    "X_train, X_test, y_train, y_test = train_test_split( X, y, test_size=0.3, random_state = 5)\n",
    "print ('Train set:', X_train.shape,  y_train.shape)\n",
    "print ('Test set:', X_test.shape,  y_test.shape)"
   ]
  },
  {
   "cell_type": "code",
   "execution_count": 60,
   "metadata": {},
   "outputs": [
    {
     "data": {
      "text/plain": [
       "KNeighborsClassifier(algorithm='auto', leaf_size=30, metric='minkowski',\n",
       "                     metric_params=None, n_jobs=None, n_neighbors=1, p=2,\n",
       "                     weights='uniform')"
      ]
     },
     "execution_count": 60,
     "metadata": {},
     "output_type": "execute_result"
    }
   ],
   "source": [
    "from sklearn.neighbors import KNeighborsClassifier\n",
    "k = 1\n",
    "#Train Model and Predict  \n",
    "nip = KNeighborsClassifier(n_neighbors = k).fit(X_train,y_train)\n",
    "nip"
   ]
  },
  {
   "cell_type": "code",
   "execution_count": 61,
   "metadata": {},
   "outputs": [
    {
     "data": {
      "text/plain": [
       "array(['1', '0', '1', '0', '1', '0', '1', '1'], dtype=object)"
      ]
     },
     "execution_count": 61,
     "metadata": {},
     "output_type": "execute_result"
    }
   ],
   "source": [
    "ypredict = neigh.predict(X_test)\n",
    "ypredict[0:8]"
   ]
  },
  {
   "cell_type": "code",
   "execution_count": 62,
   "metadata": {},
   "outputs": [
    {
     "name": "stdout",
     "output_type": "stream",
     "text": [
      "Train set Accuracy:  0.9840474020054695\n",
      "Tested set Accuracy:  0.5196599362380446\n"
     ]
    }
   ],
   "source": [
    "from sklearn import metrics\n",
    "print(\"Train set Accuracy: \", metrics.accuracy_score(y_train, neigh.predict(X_train)))\n",
    "print(\"Tested set Accuracy: \", metrics.accuracy_score(y_test, yhat))"
   ]
  },
  {
   "cell_type": "code",
   "execution_count": 63,
   "metadata": {},
   "outputs": [
    {
     "data": {
      "text/plain": [
       "array(['0'], dtype=object)"
      ]
     },
     "execution_count": 63,
     "metadata": {},
     "output_type": "execute_result"
    }
   ],
   "source": [
    "nip.predict([[0, 34,2,4,2,2]])"
   ]
  },
  {
   "cell_type": "code",
   "execution_count": 64,
   "metadata": {},
   "outputs": [
    {
     "data": {
      "text/plain": [
       "array(['1'], dtype=object)"
      ]
     },
     "execution_count": 64,
     "metadata": {},
     "output_type": "execute_result"
    }
   ],
   "source": [
    "nip.predict([[0, 34,0,1,1,2]])"
   ]
  },
  {
   "cell_type": "markdown",
   "metadata": {},
   "source": [
    "<i><b>PREDICTION RESULT ARE AS FOLLOW<i><b>\n",
    "    \n",
    "    \n",
    "0-COVID\n",
    "\n",
    "1-FLU"
   ]
  },
  {
   "cell_type": "code",
   "execution_count": null,
   "metadata": {},
   "outputs": [],
   "source": []
  }
 ],
 "metadata": {
  "kernelspec": {
   "display_name": "Python 3",
   "language": "python",
   "name": "python3"
  },
  "language_info": {
   "codemirror_mode": {
    "name": "ipython",
    "version": 3
   },
   "file_extension": ".py",
   "mimetype": "text/x-python",
   "name": "python",
   "nbconvert_exporter": "python",
   "pygments_lexer": "ipython3",
   "version": "3.7.3"
  }
 },
 "nbformat": 4,
 "nbformat_minor": 2
}
